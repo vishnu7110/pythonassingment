{
 "cells": [
  {
   "cell_type": "code",
   "execution_count": 11,
   "id": "5475cb4b-38eb-4b6e-8fca-10f53bc70420",
   "metadata": {},
   "outputs": [
    {
     "name": "stdin",
     "output_type": "stream",
     "text": [
      "Enter the first number:  10\n",
      "Enter the second number:  3\n"
     ]
    }
   ],
   "source": [
    "# PART 1 \n",
    "#exercise 1\n",
    "n1 = int(input(\"Enter the first number: \"))\n",
    "n2 = int(input(\"Enter the second number: \"))\n",
    "\n",
    "   \n",
    "\n",
    "   "
   ]
  },
  {
   "cell_type": "code",
   "execution_count": 25,
   "id": "2f73626f-084f-4785-851d-f8a18f6699f0",
   "metadata": {},
   "outputs": [
    {
     "name": "stdout",
     "output_type": "stream",
     "text": [
      "Addition:13\n",
      "Subtraction:7\n",
      "Multiplication:30\n",
      "Divison:3.3333333333333335\n",
      "Modulus:1\n",
      "exponentiation:1000\n",
      "Floor Division:3\n"
     ]
    }
   ],
   "source": [
    "addition = n1 + n2\n",
    "subtraction = n1 - n2\n",
    "multiplication = n1 * n2\n",
    "division = n1 / n2 \n",
    "modulus = n1 % n2 \n",
    "exponentiation = n1 ** n2\n",
    "floor_division = n1 // n2 \n",
    "\n",
    "\n",
    "print(f\"Addition:{addition}\")\n",
    "print(f\"Subtraction:{subtraction}\")   \n",
    "print(f\"Multiplication:{multiplication}\")\n",
    "print(f\"Divison:{division}\")\n",
    "print(f\"Modulus:{modulus}\")\n",
    "print(f\"exponentiation:{exponentiation}\")\n",
    "print(f\"Floor Division:{floor_division}\")"
   ]
  },
  {
   "cell_type": "code",
   "execution_count": null,
   "id": "786afc06-db25-4dcb-afa7-8a0972442b97",
   "metadata": {},
   "outputs": [],
   "source": []
  },
  {
   "cell_type": "code",
   "execution_count": 27,
   "id": "8ae3bc3a-63c3-4ab4-9566-d24b7a43c6f3",
   "metadata": {},
   "outputs": [
    {
     "name": "stdin",
     "output_type": "stream",
     "text": [
      "Enter the first number:  10\n",
      "Enter the second number:  3\n"
     ]
    }
   ],
   "source": [
    "#exercise 2\n",
    "n1 = int(input(\"Enter the first number: \"))\n",
    "n2 = int(input(\"Enter the second number: \"))"
   ]
  },
  {
   "cell_type": "code",
   "execution_count": 30,
   "id": "4788c610-4ec1-4f7d-8e17-b2c4f1c9bf3c",
   "metadata": {},
   "outputs": [
    {
     "name": "stdout",
     "output_type": "stream",
     "text": [
      "10 is greater than 3.\n"
     ]
    }
   ],
   "source": [
    "if n1 > n2:\n",
    "        print(f\"{n1} is greater than {n2}.\")\n",
    "elif n1 == n2:\n",
    "        print(f\"{n1} is equal to {n2}.\")\n",
    "else:\n",
    "        print(f\"{n1} is less than or equal to {n2}.\")"
   ]
  },
  {
   "cell_type": "code",
   "execution_count": null,
   "id": "af815e85-dbfb-48f5-a598-6b4209493e6c",
   "metadata": {},
   "outputs": [],
   "source": []
  },
  {
   "cell_type": "code",
   "execution_count": 31,
   "id": "0d755823-b6a2-42a7-b7e1-c708139ecec0",
   "metadata": {},
   "outputs": [
    {
     "name": "stdin",
     "output_type": "stream",
     "text": [
      "Enter the first boolean value (True/False):  true\n",
      "Enter the second boolean value (True/False):  true\n",
      "Enter the third boolean value (True/False):  false\n"
     ]
    }
   ],
   "source": [
    "#exercise 3\n",
    "b1 = input(\"Enter the first boolean value (True/False): \").strip().lower() == 'true'\n",
    "b2 = input(\"Enter the second boolean value (True/False): \").strip().lower() == 'true'\n",
    "b3 = input(\"Enter the third boolean value (True/False): \").strip().lower() == 'true'\n"
   ]
  },
  {
   "cell_type": "code",
   "execution_count": 36,
   "id": "a3e547fa-ef18-48b7-a29d-ca11846362b1",
   "metadata": {},
   "outputs": [
    {
     "name": "stdout",
     "output_type": "stream",
     "text": [
      "AND result: False\n",
      "OR result:  True\n",
      "NOT result for the first boolean: False\n",
      "NOT result for the second boolean: False\n",
      "NOT result for the third boolean: True\n"
     ]
    }
   ],
   "source": [
    "    And= b1 and b2 and b3\n",
    "    Or = b1 or b2 or b3\n",
    "    not_b1 = not b1\n",
    "    not_b2 = not b2\n",
    "    not_b3 = not b3\n",
    "\n",
    " \n",
    "    print(f\"AND result: {And}\")\n",
    "    print(f\"OR result:  {Or}\")\n",
    "    print(f\"NOT result for the first boolean: {not_b1}\")\n",
    "    print(f\"NOT result for the second boolean: {not_b2}\")\n",
    "    print(f\"NOT result for the third boolean: {not_b3}\")\n",
    "\n",
    "   \n"
   ]
  },
  {
   "cell_type": "code",
   "execution_count": null,
   "id": "f6fc27c4-6e57-40c2-a78f-3faa0ca7a05f",
   "metadata": {},
   "outputs": [],
   "source": []
  },
  {
   "cell_type": "code",
   "execution_count": 45,
   "id": "d2b7f601-bed0-4633-b7f6-9380b4e5df16",
   "metadata": {},
   "outputs": [
    {
     "name": "stdin",
     "output_type": "stream",
     "text": [
      "Please enter a string:  alliance\n"
     ]
    }
   ],
   "source": [
    "#PART 2\n",
    "#exercise 4\n",
    "x = input(\"Please enter a string: \")"
   ]
  },
  {
   "cell_type": "code",
   "execution_count": 49,
   "id": "78bb127c-092b-4654-a1a0-524e1d0b4c62",
   "metadata": {},
   "outputs": [
    {
     "name": "stdout",
     "output_type": "stream",
     "text": [
      "Length of the string: 8\n",
      "First character: a\n",
      "Last character: e\n",
      "Reversed string: ecnailla\n",
      "Uppercase: ALLIANCE\n",
      "Lowercase: alliance\n"
     ]
    }
   ],
   "source": [
    "length = len(x)\n",
    "first_character = x[0] \n",
    "last_character = x[-1] \n",
    "reversed_string = x[::-1]\n",
    "uppercase = x.upper()\n",
    "lowercase= x.lower()\n",
    "\n",
    "\n",
    "print(f\"Length of the string: {length}\")\n",
    "print(f\"First character: {first_character}\")\n",
    "print(f\"Last character: {last_character}\")\n",
    "print(f\"Reversed string: {reversed_string}\")\n",
    "print(f\"Uppercase: {uppercase}\")\n",
    "print(f\"Lowercase: {lowercase}\")"
   ]
  },
  {
   "cell_type": "code",
   "execution_count": null,
   "id": "32ca74d3-d5f6-4724-b5d1-7e09a4808d58",
   "metadata": {},
   "outputs": [],
   "source": []
  },
  {
   "cell_type": "code",
   "execution_count": 2,
   "id": "9a2cf2e3-49fc-43c2-b552-26ff483d0808",
   "metadata": {},
   "outputs": [
    {
     "name": "stdin",
     "output_type": "stream",
     "text": [
      "What is your name?  vishnu\n",
      "How old are you?  21\n"
     ]
    }
   ],
   "source": [
    "#exercise 5\n",
    "\n",
    "name = input(\"What is your name? \")\n",
    "age = input(\"How old are you? \")"
   ]
  },
  {
   "cell_type": "code",
   "execution_count": 3,
   "id": "143a3b4c-97c0-480f-8d7a-6e926f2a9242",
   "metadata": {},
   "outputs": [
    {
     "name": "stdout",
     "output_type": "stream",
     "text": [
      "Hello vishnu, you are 21 years old.\n"
     ]
    }
   ],
   "source": [
    "print(f\"Hello {name}, you are {age} years old.\")"
   ]
  },
  {
   "cell_type": "code",
   "execution_count": null,
   "id": "6f6773c4-3f55-4822-b07c-f56b26100731",
   "metadata": {},
   "outputs": [],
   "source": []
  },
  {
   "cell_type": "code",
   "execution_count": 53,
   "id": "add29c73-9b1a-4890-8cd3-5e3b6cd33c5e",
   "metadata": {},
   "outputs": [
    {
     "name": "stdin",
     "output_type": "stream",
     "text": [
      "Please enter a sentence:  welcome to one and all present here .\n",
      "Enter a word to search for:  one\n"
     ]
    }
   ],
   "source": [
    "#exercise 6\n",
    "s= input(\"Please enter a sentence: \")\n",
    "w= input(\"Enter a word to search for: \")\n"
   ]
  },
  {
   "cell_type": "code",
   "execution_count": 57,
   "id": "6580a267-b69e-40bf-8876-a6c78a87fb30",
   "metadata": {},
   "outputs": [
    {
     "name": "stdout",
     "output_type": "stream",
     "text": [
      "The word 'one' is at index 11.\n"
     ]
    }
   ],
   "source": [
    "position = s.find(w)\n",
    "if position != -1:\n",
    "        print(f\"The word '{w}' is at index {position}.\")\n",
    "else:\n",
    "        print(f\"The word '{w}' does not exist .\")\n"
   ]
  },
  {
   "cell_type": "code",
   "execution_count": null,
   "id": "142608ac-2884-4714-bcb6-8330978701a3",
   "metadata": {},
   "outputs": [],
   "source": []
  },
  {
   "cell_type": "code",
   "execution_count": 18,
   "id": "47ea34dd-94b5-4a09-8b6d-7443018b6111",
   "metadata": {},
   "outputs": [
    {
     "name": "stdin",
     "output_type": "stream",
     "text": [
      "Enter number 1:  5\n",
      "Enter number 2:  5\n",
      "Enter number 3:  8\n",
      "Enter number 4:  6\n",
      "Enter number 5:  9\n"
     ]
    }
   ],
   "source": [
    "#PART 3\n",
    "#exercise 7\n",
    "numbers = []\n",
    "for i in range(5):\n",
    "    num = float(input(f\"Enter number {i + 1}: \"))\n",
    "    numbers.append(num)"
   ]
  },
  {
   "cell_type": "code",
   "execution_count": 24,
   "id": "0cebf38c-aa70-4c0d-a0e7-1c44abd87e97",
   "metadata": {},
   "outputs": [
    {
     "name": "stdout",
     "output_type": "stream",
     "text": [
      "Sum of all numbers: 33.0\n",
      "Largest number: 9.0\n",
      "Smallest number: 5.0\n"
     ]
    }
   ],
   "source": [
    "t_sum = sum(numbers)\n",
    "print(\"Sum of all numbers:\", t_sum)\n",
    "\n",
    "l_number = max(numbers)\n",
    "s_number = min(numbers)\n",
    "\n",
    "print(\"Largest number:\", l_number)\n",
    "print(\"Smallest number:\", s_number)"
   ]
  },
  {
   "cell_type": "code",
   "execution_count": 21,
   "id": "d4e3c6dd-e6c6-428e-aee0-29dd640da3ff",
   "metadata": {},
   "outputs": [],
   "source": [
    "#exercise 8\n",
    "fruits = [\"Mango\", \"Strawberries\", \"Pineapple\", \"Blueberries\", \"Kiwi\"]\n"
   ]
  },
  {
   "cell_type": "code",
   "execution_count": 2,
   "id": "ac721629-25ba-4fe3-b218-cb58cdab5bd1",
   "metadata": {},
   "outputs": [],
   "source": [
    "fruits.append(\"apple\")"
   ]
  },
  {
   "cell_type": "code",
   "execution_count": 3,
   "id": "dacbe39f-b057-42ca-83f7-18fa264d7abc",
   "metadata": {},
   "outputs": [
    {
     "data": {
      "text/plain": [
       "'Strawberries'"
      ]
     },
     "execution_count": 3,
     "metadata": {},
     "output_type": "execute_result"
    }
   ],
   "source": [
    "fruits.pop(1)"
   ]
  },
  {
   "cell_type": "code",
   "execution_count": 4,
   "id": "29823f0e-569d-4a62-9063-87fe6f305467",
   "metadata": {},
   "outputs": [
    {
     "name": "stdout",
     "output_type": "stream",
     "text": [
      "['Mango', 'Pineapple', 'Blueberries', 'Kiwi', 'apple']\n"
     ]
    }
   ],
   "source": [
    "print(fruits)"
   ]
  },
  {
   "cell_type": "code",
   "execution_count": null,
   "id": "23d4bcac-faf9-4c99-8501-8162a6b4e88a",
   "metadata": {},
   "outputs": [],
   "source": []
  },
  {
   "cell_type": "code",
   "execution_count": 13,
   "id": "3a928de3-827a-4c56-be04-951a34ecfded",
   "metadata": {},
   "outputs": [
    {
     "name": "stdin",
     "output_type": "stream",
     "text": [
      "Please enter 5 numbers :  58976\n"
     ]
    }
   ],
   "source": [
    "#exercise 9\n",
    "x = input(\"Please enter 5 numbers : \")"
   ]
  },
  {
   "cell_type": "code",
   "execution_count": 7,
   "id": "bca67082-e528-41ec-8023-a39112d8e602",
   "metadata": {},
   "outputs": [],
   "source": [
    "x_list = [float(num) for num in x.split()]"
   ]
  },
  {
   "cell_type": "code",
   "execution_count": 14,
   "id": "fb4589c3-319c-49d3-ad13-98a42f42fd3b",
   "metadata": {},
   "outputs": [
    {
     "name": "stdout",
     "output_type": "stream",
     "text": [
      "Ascending order: ['5', '6', '7', '8', '9']\n"
     ]
    }
   ],
   "source": [
    "ascending_order = sorted(x)\n",
    "print(\"Ascending order:\", ascending_order)"
   ]
  },
  {
   "cell_type": "code",
   "execution_count": 15,
   "id": "b82b848d-205f-40cc-8a35-7d21217d6003",
   "metadata": {},
   "outputs": [
    {
     "name": "stdout",
     "output_type": "stream",
     "text": [
      "Descending order: ['9', '8', '7', '6', '5']\n"
     ]
    }
   ],
   "source": [
    "descending_order = sorted(x, reverse=True)\n",
    "print(\"Descending order:\", descending_order)"
   ]
  },
  {
   "cell_type": "code",
   "execution_count": null,
   "id": "c0470ea1-b3e1-493d-bdd6-9a524d820699",
   "metadata": {},
   "outputs": [],
   "source": []
  },
  {
   "cell_type": "code",
   "execution_count": 16,
   "id": "634d6b3e-1a6d-4332-ad7e-de124ae97175",
   "metadata": {},
   "outputs": [],
   "source": [
    "#exercise 10\n",
    "a = [1, 2, 3, 4, 5, 6, 7, 8, 9, 10]"
   ]
  },
  {
   "cell_type": "code",
   "execution_count": 17,
   "id": "b6b10b85-f658-46a2-8a91-e5f6896f56d1",
   "metadata": {},
   "outputs": [
    {
     "name": "stdout",
     "output_type": "stream",
     "text": [
      "First 5 elements: [1, 2, 3, 4, 5]\n",
      "Last 5 elements: [6, 7, 8, 9, 10]\n",
      "Elements from index 2 to 7: [3, 4, 5, 6, 7, 8]\n"
     ]
    }
   ],
   "source": [
    "print(\"First 5 elements:\", a[:5])\n",
    "\n",
    "print(\"Last 5 elements:\", a[-5:])\n",
    "\n",
    "print(\"Elements from index 2 to 7:\", a[2:8])\n"
   ]
  },
  {
   "cell_type": "code",
   "execution_count": null,
   "id": "0fbfd3c3-6c50-4540-bb33-191be3df40c1",
   "metadata": {},
   "outputs": [],
   "source": []
  },
  {
   "cell_type": "code",
   "execution_count": 27,
   "id": "fd616597-8bc5-48aa-a034-c23a6575f9d8",
   "metadata": {},
   "outputs": [
    {
     "name": "stdin",
     "output_type": "stream",
     "text": [
      "Enter the student's name:  rahul\n",
      "Enter score for subject 1:  75\n",
      "Enter score for subject 2:  58\n",
      "Enter score for subject 3:  59\n",
      "Enter the student's name:  farsaan\n",
      "Enter score for subject 1:  59\n",
      "Enter score for subject 2:  86\n",
      "Enter score for subject 3:  95\n",
      "Enter the student's name:  suhail\n",
      "Enter score for subject 1:  75\n",
      "Enter score for subject 2:  86\n",
      "Enter score for subject 3:  96\n"
     ]
    }
   ],
   "source": [
    "#Bonus Challenge\n",
    "#Exercise 11: Nested List\n",
    "students = []\n",
    "for _ in range(3):\n",
    "    name = input(\"Enter the student's name: \")\n",
    "    scores = []\n",
    "    for i in range(3):\n",
    "        score = float(input(f\"Enter score for subject {i + 1}: \"))\n",
    "        scores.append(score)\n",
    "    students.append([name, scores])"
   ]
  },
  {
   "cell_type": "code",
   "execution_count": 28,
   "id": "64569d78-a93c-4b11-9860-3a12dc4470b9",
   "metadata": {},
   "outputs": [
    {
     "name": "stdout",
     "output_type": "stream",
     "text": [
      "rahul's average score: 64.00\n",
      "farsaan's average score: 80.00\n",
      "suhail's average score: 85.67\n"
     ]
    }
   ],
   "source": [
    "for student in students:\n",
    "    name, scores = student\n",
    "    average_score = sum(scores) / len(scores)\n",
    "    print(f\"{name}'s average score: {average_score:.2f}\")"
   ]
  },
  {
   "cell_type": "code",
   "execution_count": null,
   "id": "8004fa1a-c6ea-4cf5-9e53-ac233fb10db7",
   "metadata": {},
   "outputs": [],
   "source": []
  }
 ],
 "metadata": {
  "kernelspec": {
   "display_name": "Python 3 (ipykernel)",
   "language": "python",
   "name": "python3"
  },
  "language_info": {
   "codemirror_mode": {
    "name": "ipython",
    "version": 3
   },
   "file_extension": ".py",
   "mimetype": "text/x-python",
   "name": "python",
   "nbconvert_exporter": "python",
   "pygments_lexer": "ipython3",
   "version": "3.12.4"
  }
 },
 "nbformat": 4,
 "nbformat_minor": 5
}
